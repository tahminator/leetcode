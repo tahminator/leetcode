{
 "cells": [
  {
   "cell_type": "markdown",
   "metadata": {
    "id": "6icdt7SbIrJm"
   },
   "source": [
    "# Node based Data Structures\n",
    "\n",
    "Intro from Linked Lists to Trees to Graphs\n",
    "\n",
    "In this notebook, we'll show how the three data structures are connected and\n",
    "how to progress from one to another.\n",
    "\n",
    "\n",
    "Instead of having data directly stored together in a memory array or such, we can create an intermediate object/class which has logic to hold data and connect with each other."
   ]
  },
  {
   "cell_type": "code",
   "execution_count": 5,
   "metadata": {
    "id": "rfeS5pSmIhp_"
   },
   "outputs": [],
   "source": [
    "class Node:\n",
    "    def __init__(self, val=0, next=None):\n",
    "        self.val = val\n",
    "        # This holds the data to store in the Node.\n",
    "        # You can have multiple fields store data instead of just val,\n",
    "        # or you can have val be an object with multiple fields too.\n",
    "\n",
    "        self.next = next\n",
    "        # This is of type Node, which allows references of other Nodes from\n",
    "        # the Node, which allows the concept of linking them together.\n",
    "\n",
    "list_a = Node(2, Node(4, Node(3, Node(1)))) # This represents a linked list of [2,4,3,1]\n",
    "list_b = Node(3, Node(1, Node(2, Node(1)))) # This represents a linked list of [3,1,2,1]\n",
    "\n"
   ]
  },
  {
   "cell_type": "markdown",
   "metadata": {
    "id": "4LB-vweEIpug"
   },
   "source": [
    "Let's start with a simple linked list question."
   ]
  },
  {
   "cell_type": "code",
   "execution_count": 6,
   "metadata": {
    "colab": {
     "base_uri": "https://localhost:8080/"
    },
    "executionInfo": {
     "elapsed": 11,
     "status": "ok",
     "timestamp": 1699763098455,
     "user": {
      "displayName": "Tony Wang",
      "userId": "00521396761494211731"
     },
     "user_tz": 300
    },
    "id": "gzNM5ue6TQN9",
    "outputId": "62d41b29-78f4-4b08-fe56-e6a3aec9fa9f"
   },
   "outputs": [
    {
     "name": "stdout",
     "output_type": "stream",
     "text": [
      "list_a\n",
      "2\n",
      "4\n",
      "3\n",
      "1\n",
      "list_b\n",
      "3\n",
      "1\n",
      "2\n",
      "1\n"
     ]
    }
   ],
   "source": [
    "# Print out the values of the list\n",
    "\n",
    "def printList(node: Node):\n",
    "  if node == None:\n",
    "    return\n",
    "  print(node.val)\n",
    "  printList(node.next)\n",
    "\n",
    "print(\"list_a\")\n",
    "printList(list_a)\n",
    "print(\"list_b\")\n",
    "printList(list_b)\n"
   ]
  },
  {
   "cell_type": "code",
   "execution_count": 7,
   "metadata": {
    "colab": {
     "base_uri": "https://localhost:8080/"
    },
    "executionInfo": {
     "elapsed": 10,
     "status": "ok",
     "timestamp": 1699763098456,
     "user": {
      "displayName": "Tony Wang",
      "userId": "00521396761494211731"
     },
     "user_tz": 300
    },
    "id": "6MSBAhnAUZeH",
    "outputId": "2f4cc19e-7b48-4fba-bd02-5383ccc095cb"
   },
   "outputs": [
    {
     "name": "stdout",
     "output_type": "stream",
     "text": [
      "list_a\n",
      "[2, 4, 3, 1]\n",
      "list_b\n",
      "[3, 1, 2, 1]\n"
     ]
    }
   ],
   "source": [
    "# What if we want to return the list of values instead of printing it?\n",
    "\n",
    "def getList(node: Node):\n",
    "  val_list = []\n",
    "  while (node != None):\n",
    "    val_list.append(node.val)\n",
    "    node = node.next\n",
    "  return val_list\n",
    "\n",
    "print(\"list_a\")\n",
    "print(getList(list_a))\n",
    "print(\"list_b\")\n",
    "print(getList(list_b))"
   ]
  },
  {
   "cell_type": "code",
   "execution_count": 8,
   "metadata": {
    "id": "isC628vuIo9D"
   },
   "outputs": [],
   "source": [
    "class Node: # BinaryTreeNode\n",
    "    def __init__(self, val=0, left=None, right=None):\n",
    "        self.val = val\n",
    "        self.left = left\n",
    "        self.right = right\n",
    "        # In this case, instead of having one node, we can have two or more."
   ]
  },
  {
   "cell_type": "code",
   "execution_count": 9,
   "metadata": {
    "cellView": "form",
    "id": "NtcKviHDQubG"
   },
   "outputs": [],
   "source": [
    "#@title Helper Code for Trees. #ignore\n",
    "# Used to print out a tree in a pretty manner.\n",
    "# IGNORE THIS IMPLEMENTATION.\n",
    "# Taken from https://stackoverflow.com/a/72497198\n",
    "# More complex version of leetcode question: https://leetcode.com/problems/print-binary-tree/description/\n",
    "def PrintTree(root):\n",
    "    def height(root):\n",
    "      if root == None:\n",
    "        return -1\n",
    "      else:\n",
    "        heightLeft = height(root.left)\n",
    "        heightRight = height(root.right)\n",
    "        return 1 + max(heightLeft, heightRight)\n",
    "    nlevels = height(root)\n",
    "    width =  pow(2,nlevels+1)\n",
    "\n",
    "    q=[(root,0,width,'c')]\n",
    "    levels=[]\n",
    "\n",
    "    while(q):\n",
    "        node,level,x,align= q.pop(0)\n",
    "        if node:\n",
    "            if len(levels)<=level:\n",
    "                levels.append([])\n",
    "\n",
    "            levels[level].append([node,level,x,align])\n",
    "            seg= width//(pow(2,level+1))\n",
    "            q.append((node.left,level+1,x-seg,'l'))\n",
    "            q.append((node.right,level+1,x+seg,'r'))\n",
    "\n",
    "    for i,l in enumerate(levels):\n",
    "        pre=0\n",
    "        preline=0\n",
    "        linestr=''\n",
    "        pstr=''\n",
    "        seg= width//(pow(2,i+1))\n",
    "        for n in l:\n",
    "            valstr= str(n[0].val)\n",
    "            if n[3]=='r':\n",
    "                linestr+=' '*(n[2]-preline-1-seg-seg//2)+ '¯'*(seg +seg//2)+'\\\\'\n",
    "                preline = n[2]\n",
    "            if n[3]=='l':\n",
    "               linestr+=' '*(n[2]-preline-1)+'/' + '¯'*(seg+seg//2)\n",
    "               preline = n[2] + seg + seg//2\n",
    "            pstr+=' '*(n[2]-pre-len(valstr))+valstr #correct the potition acording to the number size\n",
    "            pre = n[2]\n",
    "        print(linestr)\n",
    "        print(pstr)"
   ]
  },
  {
   "cell_type": "code",
   "execution_count": 10,
   "metadata": {
    "colab": {
     "base_uri": "https://localhost:8080/"
    },
    "executionInfo": {
     "elapsed": 24,
     "status": "ok",
     "timestamp": 1699763098620,
     "user": {
      "displayName": "Tony Wang",
      "userId": "00521396761494211731"
     },
     "user_tz": 300
    },
    "id": "FXIBkGw3RGqo",
    "outputId": "a9c9e1e5-45f7-4f61-ccde-bbfeefc5e3f9"
   },
   "outputs": [
    {
     "name": "stdout",
     "output_type": "stream",
     "text": [
      "\n",
      "   3\n",
      " /¯ ¯\\\n",
      " 7   6\n",
      "\n",
      "       5\n",
      "   /¯¯¯ ¯¯¯\\\n",
      "   9       3\n",
      "    ¯\\   /¯ ¯\\\n",
      "     4   7   6\n",
      "\n",
      "               3\n",
      "       /¯¯¯¯¯¯   ¯¯¯¯¯¯\\\n",
      "       7               6\n",
      "   /¯¯¯ ¯¯¯\\       /¯¯¯ ¯¯¯\\\n",
      "   8       4       5       4\n",
      " /¯ ¯\\   /¯ ¯\\\n",
      " 9   7   1   1\n",
      "\n",
      "               8\n",
      "       /¯¯¯¯¯¯   ¯¯¯¯¯¯\\\n",
      "       4              10\n",
      "   /¯¯¯ ¯¯¯\\       /¯¯¯ ¯¯¯\\\n",
      "   2       6       9      11\n",
      " /¯ ¯\\   /¯ ¯\\\n",
      " 1   3   5   7\n"
     ]
    }
   ],
   "source": [
    "tree_1 = Node(3,Node(7),Node(6))\n",
    "#               3            /\n",
    "#             /   \\          /\n",
    "#           7      6         /\n",
    "PrintTree(tree_1)\n",
    "\n",
    "tree_2 = Node(5 , Node (9, None, Node(4)), tree_1)\n",
    "\n",
    "# tree_2 = tree_1\n",
    "#               5            /\n",
    "#             /   \\          /\n",
    "#           9      3         /\n",
    "#            \\    / \\        /\n",
    "#             4  7   6       /\n",
    "PrintTree(tree_2)\n",
    "\n",
    "# print(tree_2.left)\n",
    "\n",
    "\n",
    "\n",
    "tree_3 = Node(3,Node(7,Node(8,Node(9),Node(7)),Node(4,Node(1),Node(1))), Node(6,Node(5),Node(4)))\n",
    "#               3            /\n",
    "#             /   \\          /\n",
    "#           7      6         /\n",
    "#         /  \\    / \\        /\n",
    "#       8     4  5   4       /\n",
    "#     /  \\  /  \\             /\n",
    "#    9   7  1   1            /\n",
    "PrintTree(tree_3)\n",
    "\n",
    "binary_search_tree_1 = Node(8,Node(4,Node(2,Node(1),Node(3)),Node(6,Node(5),Node(7))), Node(10,Node(9),Node(11)))\n",
    "#               8            /\n",
    "#             /   \\          /\n",
    "#           4      10        /\n",
    "#         /  \\    / \\        /\n",
    "#       2     6  9   11      /\n",
    "#     /  \\  /  \\             /\n",
    "#    1   3  5   7            /\n",
    "PrintTree(binary_search_tree_1)"
   ]
  },
  {
   "cell_type": "code",
   "execution_count": 11,
   "metadata": {},
   "outputs": [
    {
     "name": "stdout",
     "output_type": "stream",
     "text": [
      "\n",
      "       5\n",
      "   /¯¯¯ ¯¯¯\\\n",
      "   9       3\n",
      "    ¯\\   /¯ ¯\\\n",
      "     4   7   6\n",
      "[5, 9, 4, 3, 7, 6]\n",
      "[9, 4, 5, 7, 3, 6]\n",
      "[4, 9, 7, 6, 3, 5]\n",
      "\n",
      "               8\n",
      "       /¯¯¯¯¯¯   ¯¯¯¯¯¯\\\n",
      "       4              10\n",
      "   /¯¯¯ ¯¯¯\\       /¯¯¯ ¯¯¯\\\n",
      "   2       6       9      11\n",
      " /¯ ¯\\   /¯ ¯\\\n",
      " 1   3   5   7\n",
      "[8, 4, 2, 1, 3, 6, 5, 7, 10, 9, 11]\n",
      "[1, 2, 3, 4, 5, 6, 7, 8, 9, 10, 11]\n",
      "[1, 3, 2, 5, 7, 6, 4, 9, 11, 10, 8]\n"
     ]
    }
   ],
   "source": [
    "# Prints out the tree in order \n",
    "# Example is a pre-order traversal. \n",
    "def treePreorder(node: Node):\n",
    "  if node == None:\n",
    "    return []\n",
    "  ans = []\n",
    "  ans += [node.val]\n",
    "  ans += treePreorder(node.left)\n",
    "  ans += treePreorder(node.right)\n",
    "  \n",
    "  return ans\n",
    "\n",
    "def treeInorder(node: Node):\n",
    "  if node == None:\n",
    "    return []\n",
    "  ans = []\n",
    "  ans += treeInorder(node.left)\n",
    "  ans += [node.val]\n",
    "  ans += treeInorder(node.right)\n",
    "  \n",
    "  return ans\n",
    "\n",
    "def treePostorder(node: Node):\n",
    "  if node == None:\n",
    "    return []\n",
    "  ans = []\n",
    "  ans += treePostorder(node.left)\n",
    "  ans += treePostorder(node.right)\n",
    "  ans += [node.val]\n",
    "\n",
    "  return ans\n",
    "\n",
    "PrintTree(tree_2)\n",
    "print(treePreorder(tree_2))\n",
    "print(treeInorder(tree_2))\n",
    "print(treePostorder(tree_2))\n",
    "\n",
    "\n",
    "PrintTree(binary_search_tree_1)\n",
    "print(treePreorder(binary_search_tree_1))\n",
    "print(treeInorder(binary_search_tree_1)) # Notice that this prints the values in sorted order.\n",
    "print(treePostorder(binary_search_tree_1))"
   ]
  },
  {
   "cell_type": "code",
   "execution_count": 12,
   "metadata": {
    "colab": {
     "base_uri": "https://localhost:8080/"
    },
    "executionInfo": {
     "elapsed": 24,
     "status": "ok",
     "timestamp": 1699763098621,
     "user": {
      "displayName": "Tony Wang",
      "userId": "00521396761494211731"
     },
     "user_tz": 300
    },
    "id": "KujIjzigRIgh",
    "outputId": "bf59d570-d0c3-4129-ed03-d4244be0a957"
   },
   "outputs": [
    {
     "name": "stdout",
     "output_type": "stream",
     "text": [
      "\n",
      "       5\n",
      "   /¯¯¯ ¯¯¯\\\n",
      "   9       3\n",
      "    ¯\\   /¯ ¯\\\n",
      "     4   7   6\n"
     ]
    },
    {
     "data": {
      "text/plain": [
       "[5, 9, 4, 3, 7, 6]"
      ]
     },
     "execution_count": 12,
     "metadata": {},
     "output_type": "execute_result"
    }
   ],
   "source": [
    "# Prints out the tree in order iteratively\n",
    "# Example is a pre-order traversal. \n",
    "# This leads into DFS. Swap the stack with a queue for a BFS.\n",
    "def printTreeIterative(node: Node):\n",
    "  val_list = []\n",
    "  to_visit = [node]\n",
    "  while (len(to_visit) > 0):\n",
    "    node = to_visit.pop()\n",
    "    if node != None:\n",
    "      val_list.append(node.val)\n",
    "      to_visit.append(node.right)\n",
    "      to_visit.append(node.left)\n",
    "  return val_list\n",
    "PrintTree(tree_2)\n",
    "printTreeIterative(tree_2)\n"
   ]
  },
  {
   "cell_type": "code",
   "execution_count": 13,
   "metadata": {
    "colab": {
     "base_uri": "https://localhost:8080/"
    },
    "executionInfo": {
     "elapsed": 20,
     "status": "ok",
     "timestamp": 1699763098621,
     "user": {
      "displayName": "Tony Wang",
      "userId": "00521396761494211731"
     },
     "user_tz": 300
    },
    "id": "HQJq-emaSvR6",
    "outputId": "3b435c8f-c8bb-4120-d34e-f0a502edc109"
   },
   "outputs": [
    {
     "name": "stdout",
     "output_type": "stream",
     "text": [
      "34\n"
     ]
    }
   ],
   "source": [
    "def sumTree(node: Node):\n",
    "  val_total = 0\n",
    "  to_visit = [node]\n",
    "  while (len(to_visit) > 0):\n",
    "    node = to_visit.pop()\n",
    "    if node != None:\n",
    "      val_total += node.val\n",
    "      to_visit.append(node.right)\n",
    "      to_visit.append(node.left)\n",
    "  return val_total\n",
    "print(sumTree(tree_2))\n"
   ]
  },
  {
   "cell_type": "code",
   "execution_count": 14,
   "metadata": {
    "id": "fca3prluqhjN"
   },
   "outputs": [],
   "source": [
    "class Node: # GraphNode\n",
    "    def __init__(self, val=0, neighbors=[]):\n",
    "        self.val = val\n",
    "        self.neighbors = neighbors\n",
    "        # Using a list of neighbors as we can have more than two.\n",
    "\n",
    "node1 = Node(1)\n",
    "node2 = Node(2)\n",
    "node3 = Node(3)\n",
    "node4 = Node(4)\n",
    "node5 = Node(5)\n",
    "node1.neighbors = [node2, node3]\n",
    "node2.neighbors = [node1, node3, node5]\n",
    "node3.neighbors = [node1, node2, node4]\n",
    "node4.neighbors = [node3, node5]\n",
    "node5.neighbors = [node4, node2]\n"
   ]
  },
  {
   "cell_type": "code",
   "execution_count": null,
   "metadata": {
    "colab": {
     "base_uri": "https://localhost:8080/"
    },
    "executionInfo": {
     "elapsed": 16,
     "status": "ok",
     "timestamp": 1699763098621,
     "user": {
      "displayName": "Tony Wang",
      "userId": "00521396761494211731"
     },
     "user_tz": 300
    },
    "id": "Pbkcqs8nrqcG",
    "outputId": "f46ef8be-0db0-41dc-8728-cc592d4f278c"
   },
   "outputs": [
    {
     "name": "stdout",
     "output_type": "stream",
     "text": [
      "True\n"
     ]
    }
   ],
   "source": [
    "# Depth First Search\n",
    "def searchGraph(node: Node, target: int) -> bool:\n",
    "  to_visit = [node]\n",
    "  seen = set([node])\n",
    "  while (len(to_visit) > 0):\n",
    "    node = to_visit.pop()\n",
    "    if node.val == target:\n",
    "      return True\n",
    "    for neighbor in node.neighbors:\n",
    "      if neighbor not in seen:\n",
    "        to_visit.append(neighbor)\n",
    "        seen.add(node)\n",
    "\n",
    "\n",
    "  return False\n",
    "print(searchGraph(node1, 5))\n",
    "\n",
    "\n"
   ]
  },
  {
   "cell_type": "code",
   "execution_count": 16,
   "metadata": {
    "colab": {
     "base_uri": "https://localhost:8080/"
    },
    "executionInfo": {
     "elapsed": 12,
     "status": "ok",
     "timestamp": 1699763098621,
     "user": {
      "displayName": "Tony Wang",
      "userId": "00521396761494211731"
     },
     "user_tz": 300
    },
    "id": "eDGbm15CxDng",
    "outputId": "7c2fecc4-f0e8-4834-be3e-ac85fc16a04b"
   },
   "outputs": [
    {
     "name": "stdout",
     "output_type": "stream",
     "text": [
      "5\n"
     ]
    }
   ],
   "source": [
    "def searchLargest(node: Node) -> int:\n",
    "  to_visit = [node]\n",
    "  visited = set()\n",
    "  largest = 0\n",
    "  while (len(to_visit) > 0):\n",
    "    node = to_visit.pop()\n",
    "    visited.add(node)\n",
    "    if node.val > largest:\n",
    "      largest = node.val\n",
    "    for neighbor in node.neighbors:\n",
    "      if neighbor not in visited:\n",
    "        to_visit.append(neighbor)\n",
    "  return largest\n",
    "\n",
    "print(searchLargest(node2))"
   ]
  }
 ],
 "metadata": {
  "colab": {
   "provenance": []
  },
  "kernelspec": {
   "display_name": "Python 3",
   "name": "python3"
  },
  "language_info": {
   "codemirror_mode": {
    "name": "ipython",
    "version": 3
   },
   "file_extension": ".py",
   "mimetype": "text/x-python",
   "name": "python",
   "nbconvert_exporter": "python",
   "pygments_lexer": "ipython3",
   "version": "3.13.2"
  }
 },
 "nbformat": 4,
 "nbformat_minor": 0
}
